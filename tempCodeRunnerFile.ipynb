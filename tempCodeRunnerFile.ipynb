import pandas as pd 
import sys
import sklearn
import tensorflow as tf
import numpy as np
from sklearn.model_selection import train_test_split
import matplotlib.pyplot as plt
from datetime import datetime
import seaborn as sns

pd.set_option("display.max_rows", 100)
pd.set_option("display.max_columns", 1000)

from sklearn.model_selection import KFold, cross_val_score